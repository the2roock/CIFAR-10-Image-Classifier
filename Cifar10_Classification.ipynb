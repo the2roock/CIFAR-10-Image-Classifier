{
  "nbformat": 4,
  "nbformat_minor": 0,
  "metadata": {
    "colab": {
      "provenance": [],
      "authorship_tag": "ABX9TyPjT1OIbtjlawNox/50HWz4",
      "include_colab_link": true
    },
    "kernelspec": {
      "name": "python3",
      "display_name": "Python 3"
    },
    "language_info": {
      "name": "python"
    }
  },
  "cells": [
    {
      "cell_type": "markdown",
      "metadata": {
        "id": "view-in-github",
        "colab_type": "text"
      },
      "source": [
        "<a href=\"https://colab.research.google.com/github/the2roock/Cifar10-Classification/blob/main/Cifar10_Classification.ipynb\" target=\"_parent\"><img src=\"https://colab.research.google.com/assets/colab-badge.svg\" alt=\"Open In Colab\"/></a>"
      ]
    },
    {
      "cell_type": "markdown",
      "source": [
        "# Requirements"
      ],
      "metadata": {
        "id": "WvtJRwWLR1bd"
      }
    },
    {
      "cell_type": "code",
      "source": [],
      "metadata": {
        "id": "KeJnIkhJSCIt"
      },
      "execution_count": null,
      "outputs": []
    },
    {
      "cell_type": "markdown",
      "source": [
        "# Load Data"
      ],
      "metadata": {
        "id": "F9VkP7yfSCvR"
      }
    },
    {
      "cell_type": "code",
      "source": [],
      "metadata": {
        "id": "rxOnZ4o-SDKV"
      },
      "execution_count": null,
      "outputs": []
    },
    {
      "cell_type": "markdown",
      "source": [
        "# Data Preprocessing"
      ],
      "metadata": {
        "id": "G5gp7FUPSGtt"
      }
    },
    {
      "cell_type": "code",
      "source": [],
      "metadata": {
        "id": "bvJ4r3UYSIrK"
      },
      "execution_count": null,
      "outputs": []
    },
    {
      "cell_type": "markdown",
      "source": [
        "# Model Architecture"
      ],
      "metadata": {
        "id": "PfAsn7OwSJP7"
      }
    },
    {
      "cell_type": "code",
      "source": [],
      "metadata": {
        "id": "IkYDI8pISZYe"
      },
      "execution_count": null,
      "outputs": []
    },
    {
      "cell_type": "markdown",
      "source": [
        "# Train Model"
      ],
      "metadata": {
        "id": "D0a-oiJ1SZ51"
      }
    },
    {
      "cell_type": "code",
      "source": [],
      "metadata": {
        "id": "v0_tgtuFSdUm"
      },
      "execution_count": null,
      "outputs": []
    },
    {
      "cell_type": "markdown",
      "source": [
        "# Test Model"
      ],
      "metadata": {
        "id": "BI-XuBuYSdqL"
      }
    },
    {
      "cell_type": "code",
      "source": [],
      "metadata": {
        "id": "g2RFps8KSe0D"
      },
      "execution_count": null,
      "outputs": []
    },
    {
      "cell_type": "markdown",
      "source": [
        "# Save Model"
      ],
      "metadata": {
        "id": "RnfKQIKDSfVR"
      }
    },
    {
      "cell_type": "code",
      "source": [],
      "metadata": {
        "id": "eDwCsfOBSgmZ"
      },
      "execution_count": null,
      "outputs": []
    }
  ]
}