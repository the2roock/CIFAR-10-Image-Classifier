{
  "cells": [
    {
      "cell_type": "markdown",
      "metadata": {
        "colab_type": "text",
        "id": "view-in-github"
      },
      "source": [
        "<a href=\"https://colab.research.google.com/github/the2roock/Traffic-Sign-Classification/blob/main/Traffic_Sign_Classification.ipynb\" target=\"_parent\"><img src=\"https://colab.research.google.com/assets/colab-badge.svg\" alt=\"Open In Colab\"/></a>"
      ]
    },
    {
      "cell_type": "markdown",
      "metadata": {
        "id": "D31x7pL50fbs"
      },
      "source": [
        "# Requirements"
      ]
    },
    {
      "cell_type": "code",
      "execution_count": 19,
      "metadata": {
        "id": "zGa9qZntt0Y_"
      },
      "outputs": [],
      "source": [
        "import os\n",
        "\n",
        "import pickle\n",
        "import numpy as np\n",
        "import matplotlib.pyplot as plt"
      ]
    },
    {
      "cell_type": "markdown",
      "metadata": {},
      "source": [
        "# Create union train dataset"
      ]
    },
    {
      "cell_type": "code",
      "execution_count": 20,
      "metadata": {},
      "outputs": [
        {
          "data": {
            "text/plain": [
              "((50000, 32, 32, 3), (50000,))"
            ]
          },
          "execution_count": 20,
          "metadata": {},
          "output_type": "execute_result"
        }
      ],
      "source": [
        "files = [\n",
        "    \"data_batch_1\",\n",
        "    \"data_batch_2\",\n",
        "    \"data_batch_3\",\n",
        "    \"data_batch_4\",\n",
        "    \"data_batch_5\",\n",
        "]\n",
        "batches = list()\n",
        "# load pickles\n",
        "for filename in files:\n",
        "    path_to_file = os.path.join(\"..\", \"cifar10\", \"cifar-10-batches-py\", filename)\n",
        "    with open(path_to_file, 'rb') as file:\n",
        "        batch = pickle.load(file, encoding=\"latin1\")\n",
        "    batches.append(batch)\n",
        "    \n",
        "# Create dataset\n",
        "X_train = np.concat([b[\"data\"] for b in batches])\n",
        "y_train = np.concat([b[\"labels\"] for b in batches])\n",
        "\n",
        "# resize X\n",
        "X_train = X_train.reshape(-1, 3, 32, 32)\n",
        "X_train = X_train.transpose(0, 2, 3, 1)\n",
        "\n",
        "train = {\n",
        "    \"images\": X_train,\n",
        "    \"labels\": y_train\n",
        "}\n",
        "\n",
        "X_train.shape, y_train.shape"
      ]
    },
    {
      "cell_type": "markdown",
      "metadata": {},
      "source": [
        "# Load test dataset"
      ]
    },
    {
      "cell_type": "code",
      "execution_count": 21,
      "metadata": {},
      "outputs": [
        {
          "data": {
            "text/plain": [
              "((10000, 32, 32, 3), (10000,))"
            ]
          },
          "execution_count": 21,
          "metadata": {},
          "output_type": "execute_result"
        }
      ],
      "source": [
        "filename = os.path.join(\"..\", \"cifar10\", \"cifar-10-batches-py\", \"test_batch\")\n",
        "with open(filename, \"rb\") as file:\n",
        "    test_batch = pickle.load(file, encoding=\"latin1\")\n",
        "X_test = test_batch[\"data\"]\n",
        "y_test = np.array(test_batch[\"labels\"])\n",
        "X_test = X_test.reshape(-1, 3, 32, 32)\n",
        "X_test = X_test.transpose(0, 2, 3, 1)\n",
        "\n",
        "test = {\n",
        "    \"images\": X_test,\n",
        "    \"labels\": y_test\n",
        "}\n",
        "\n",
        "X_test.shape, y_test.shape"
      ]
    },
    {
      "cell_type": "markdown",
      "metadata": {},
      "source": [
        "# Load label encodes"
      ]
    },
    {
      "cell_type": "code",
      "execution_count": 22,
      "metadata": {},
      "outputs": [
        {
          "data": {
            "text/plain": [
              "['airplane',\n",
              " 'automobile',\n",
              " 'bird',\n",
              " 'cat',\n",
              " 'deer',\n",
              " 'dog',\n",
              " 'frog',\n",
              " 'horse',\n",
              " 'ship',\n",
              " 'truck']"
            ]
          },
          "execution_count": 22,
          "metadata": {},
          "output_type": "execute_result"
        }
      ],
      "source": [
        "filename = os.path.join(\"..\", \"cifar10\", \"cifar-10-batches-py\", \"batches.meta\")\n",
        "with open(filename, 'rb') as file:\n",
        "    meta = pickle.load(file, encoding=\"latin1\")\n",
        "labels = meta[\"label_names\"]\n",
        "labels"
      ]
    },
    {
      "cell_type": "markdown",
      "metadata": {},
      "source": [
        "# Save dataset"
      ]
    },
    {
      "cell_type": "code",
      "execution_count": 23,
      "metadata": {},
      "outputs": [
        {
          "name": "stdout",
          "output_type": "stream",
          "text": [
            "Dataset saved as ../cifar10/data.pickle.\n"
          ]
        }
      ],
      "source": [
        "data = {\n",
        "    \"label_names\": labels,\n",
        "    \"train\": train,\n",
        "    \"test\": test\n",
        "}\n",
        "filename = os.path.join(\"..\", \"cifar10\", \"data.pickle\")\n",
        "with open(filename, \"wb\") as file:\n",
        "    pickle.dump(data, file)\n",
        "print(f\"Dataset saved as {filename}.\")"
      ]
    },
    {
      "cell_type": "code",
      "execution_count": null,
      "metadata": {},
      "outputs": [],
      "source": []
    }
  ],
  "metadata": {
    "colab": {
      "authorship_tag": "ABX9TyNVCk/Wvce8bPeej/L9ic14",
      "include_colab_link": true,
      "provenance": []
    },
    "kernelspec": {
      "display_name": "Python 3",
      "name": "python3"
    },
    "language_info": {
      "codemirror_mode": {
        "name": "ipython",
        "version": 3
      },
      "file_extension": ".py",
      "mimetype": "text/x-python",
      "name": "python",
      "nbconvert_exporter": "python",
      "pygments_lexer": "ipython3",
      "version": "3.12.2"
    }
  },
  "nbformat": 4,
  "nbformat_minor": 0
}
